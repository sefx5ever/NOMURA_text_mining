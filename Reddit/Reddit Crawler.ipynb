{
 "cells": [
  {
   "cell_type": "code",
   "execution_count": 1,
   "metadata": {},
   "outputs": [],
   "source": [
    "import praw\n",
    "import pandas as pd\n",
    "import datetime\n",
    "import time\n",
    "from psaw import PushshiftAPI\n"
   ]
  },
  {
   "cell_type": "markdown",
   "metadata": {},
   "source": [
    "# Pushshift API\n",
    "\n",
    "This API can search for more than 1000 data and specific time range\n"
   ]
  },
  {
   "cell_type": "code",
   "execution_count": 2,
   "metadata": {},
   "outputs": [],
   "source": [
    "# Search for more 1000 data\n",
    "\n",
    "api  = PushshiftAPI()\n",
    "search_date = datetime.datetime(2020,1,1)\n",
    "start_epoch = int(search_date.timestamp())\n",
    "subreddit   = 'investing'\n",
    "data = api.search_submissions(after=start_epoch,\n",
    "                             subreddit = subreddit,\n",
    "                             sort_type = 'score',\n",
    "                             sort = 'desc',\n",
    "                             filter=['author', 'title', 'subreddit' ,'score', 'selftext'],\n",
    "                             limit=10000)\n"
   ]
  },
  {
   "cell_type": "code",
   "execution_count": 3,
   "metadata": {},
   "outputs": [
    {
     "name": "stderr",
     "output_type": "stream",
     "text": [
      "C:\\Users\\Gunther\\Anaconda3\\lib\\site-packages\\pandas\\core\\indexing.py:670: SettingWithCopyWarning: \n",
      "A value is trying to be set on a copy of a slice from a DataFrame\n",
      "\n",
      "See the caveats in the documentation: https://pandas.pydata.org/pandas-docs/stable/user_guide/indexing.html#returning-a-view-versus-a-copy\n",
      "  self._setitem_with_indexer(indexer, value)\n"
     ]
    }
   ],
   "source": [
    "df = pd.DataFrame(list(data))\n",
    "df = df[['created_utc','author','score','title','selftext']]\n",
    "for i in range(len(df)):\n",
    "    df['created_utc'].iloc[i] = time.strftime(\"%Y-%m-%d\",time.gmtime(df['created_utc'].iloc[i]))"
   ]
  },
  {
   "cell_type": "code",
   "execution_count": 4,
   "metadata": {},
   "outputs": [
    {
     "data": {
      "text/html": [
       "<div>\n",
       "<style scoped>\n",
       "    .dataframe tbody tr th:only-of-type {\n",
       "        vertical-align: middle;\n",
       "    }\n",
       "\n",
       "    .dataframe tbody tr th {\n",
       "        vertical-align: top;\n",
       "    }\n",
       "\n",
       "    .dataframe thead th {\n",
       "        text-align: right;\n",
       "    }\n",
       "</style>\n",
       "<table border=\"1\" class=\"dataframe\">\n",
       "  <thead>\n",
       "    <tr style=\"text-align: right;\">\n",
       "      <th></th>\n",
       "      <th>Name</th>\n",
       "      <th>Score</th>\n",
       "      <th>Title</th>\n",
       "      <th>Content</th>\n",
       "    </tr>\n",
       "    <tr>\n",
       "      <th>Date</th>\n",
       "      <th></th>\n",
       "      <th></th>\n",
       "      <th></th>\n",
       "      <th></th>\n",
       "    </tr>\n",
       "  </thead>\n",
       "  <tbody>\n",
       "    <tr>\n",
       "      <th>2020-01-03</th>\n",
       "      <td>ChocolateTsar</td>\n",
       "      <td>1510</td>\n",
       "      <td>Tesla tops Wall Street estimates with a record...</td>\n",
       "      <td>&amp;gt;Tesla delivered a record 112,000 vehicles ...</td>\n",
       "    </tr>\n",
       "    <tr>\n",
       "      <th>2020-01-04</th>\n",
       "      <td>Fobulousguy</td>\n",
       "      <td>381</td>\n",
       "      <td>Is there any good ELI5 resources on PUTS, SHOR...</td>\n",
       "      <td></td>\n",
       "    </tr>\n",
       "    <tr>\n",
       "      <th>2020-01-02</th>\n",
       "      <td>FortyYearOldVirgin</td>\n",
       "      <td>380</td>\n",
       "      <td>Dow jumps 250 points, hits record as Wall Stre...</td>\n",
       "      <td>[https://www.cnbc.com/2020/01/02/dow-futures-p...</td>\n",
       "    </tr>\n",
       "    <tr>\n",
       "      <th>2020-01-04</th>\n",
       "      <td>CIARRAPUNGI</td>\n",
       "      <td>340</td>\n",
       "      <td>What was your path in learning about the stock...</td>\n",
       "      <td></td>\n",
       "    </tr>\n",
       "    <tr>\n",
       "      <th>2020-01-05</th>\n",
       "      <td>howtoreadspaghetti</td>\n",
       "      <td>312</td>\n",
       "      <td>I got bored and went through Amazon's financia...</td>\n",
       "      <td>[https://docs.google.com/spreadsheets/d/1naBI-...</td>\n",
       "    </tr>\n",
       "  </tbody>\n",
       "</table>\n",
       "</div>"
      ],
      "text/plain": [
       "                          Name  Score  \\\n",
       "Date                                    \n",
       "2020-01-03       ChocolateTsar   1510   \n",
       "2020-01-04         Fobulousguy    381   \n",
       "2020-01-02  FortyYearOldVirgin    380   \n",
       "2020-01-04         CIARRAPUNGI    340   \n",
       "2020-01-05  howtoreadspaghetti    312   \n",
       "\n",
       "                                                        Title  \\\n",
       "Date                                                            \n",
       "2020-01-03  Tesla tops Wall Street estimates with a record...   \n",
       "2020-01-04  Is there any good ELI5 resources on PUTS, SHOR...   \n",
       "2020-01-02  Dow jumps 250 points, hits record as Wall Stre...   \n",
       "2020-01-04  What was your path in learning about the stock...   \n",
       "2020-01-05  I got bored and went through Amazon's financia...   \n",
       "\n",
       "                                                      Content  \n",
       "Date                                                           \n",
       "2020-01-03  &gt;Tesla delivered a record 112,000 vehicles ...  \n",
       "2020-01-04                                                     \n",
       "2020-01-02  [https://www.cnbc.com/2020/01/02/dow-futures-p...  \n",
       "2020-01-04                                                     \n",
       "2020-01-05  [https://docs.google.com/spreadsheets/d/1naBI-...  "
      ]
     },
     "execution_count": 4,
     "metadata": {},
     "output_type": "execute_result"
    }
   ],
   "source": [
    "df.columns=['Date','Name','Score','Title','Content']\n",
    "df = df.set_index('Date')\n",
    "df.head()"
   ]
  },
  {
   "cell_type": "code",
   "execution_count": 6,
   "metadata": {},
   "outputs": [],
   "source": [
    "df.to_csv('./Reddit Data/'+ subreddit + '_' +datetime.datetime.strftime(search_date,\"%Y-%m-%d\") + '.csv')"
   ]
  },
  {
   "cell_type": "markdown",
   "metadata": {},
   "source": [
    "# Praw API\n",
    "This is Reddit offical API can search specific word but less than 1000 data"
   ]
  },
  {
   "cell_type": "code",
   "execution_count": null,
   "metadata": {},
   "outputs": [],
   "source": [
    "reddit = praw.Reddit(client_id='-RIN1YYCUr4Beg',\n",
    "                     client_secret='2HifNYi9IFLXRDgGPh27IzbmMg8',\n",
    "                     user_agent='crawler')\n",
    "\n",
    "print(reddit.read_only)"
   ]
  },
  {
   "cell_type": "code",
   "execution_count": null,
   "metadata": {},
   "outputs": [],
   "source": [
    "data = []\n",
    "\n",
    "# Range \n",
    "\n",
    "subreddit = reddit.subreddit(\"investing\")\n",
    "keywords  = \"fund\"\n",
    "limits    = 1000\n",
    "time_filter = 'year'\n",
    "\n",
    "# Import API\n",
    "# https://praw.readthedocs.io/en/latest/code_overview/models/submission.html\n",
    "# sort='relevance','hot','top','new','comments'\n",
    "# syntax='lucene' , 'cloudsearch' , 'plain'\n",
    "# time_filter='year'\n",
    "\n",
    "for submission in subreddit.search(keywords, sort='relevance', syntax='lucene', time_filter=time_filter, limit=limits):\n",
    "    date = time.gmtime(submission.created_utc)\n",
    "    data.append([time.strftime(\"%Y-%m-%d\",date),submission.author,submission.score,submission.title,submission.selftext])\n",
    "    \n",
    "df = pd.DataFrame(data,columns=['Date','Name','Score','Title','Content'])\n",
    "df = df.set_index('Date')\n",
    "df = df.dropna()\n",
    "df.head()"
   ]
  },
  {
   "cell_type": "code",
   "execution_count": null,
   "metadata": {},
   "outputs": [],
   "source": [
    "df.to_csv('./Reddit Data/keywords_'+ time_filter + '_'+ keywords +'.csv')"
   ]
  },
  {
   "cell_type": "code",
   "execution_count": null,
   "metadata": {},
   "outputs": [],
   "source": [
    "data = []\n",
    "\n",
    "# Range \n",
    "time_now = datetime.datetime.now()\n",
    "\n",
    "subreddit = reddit.subreddit(\"investing\")\n",
    "keywords  = \"hot\"\n",
    "limits    = 1000\n",
    "time_filter = 'year'\n",
    "\n",
    "for submission in subreddit.hot(limit=None):\n",
    "    date = time.gmtime(submission.created_utc)\n",
    "    data.append([time.strftime(\"%Y-%m-%d\",date),submission.author,submission.score,submission.title,submission.selftext])\n",
    "    \n",
    "df = pd.DataFrame(data,columns=['Date','Name','Score','Title','Content'])\n",
    "df = df.set_index('Date')\n",
    "df"
   ]
  },
  {
   "cell_type": "code",
   "execution_count": null,
   "metadata": {},
   "outputs": [],
   "source": [
    "df.to_csv('./Reddit Data/keywords_'+ time_filter + '_'+ keywords +'.csv')"
   ]
  },
  {
   "cell_type": "markdown",
   "metadata": {},
   "source": [
    "# Push Shift API\n",
    "\n",
    "The Json version for query data"
   ]
  },
  {
   "cell_type": "code",
   "execution_count": null,
   "metadata": {},
   "outputs": [],
   "source": [
    "data = []\n",
    "\n",
    "subreddit_name = 'investing'\n",
    "days = '500d'\n",
    "\n",
    "url = 'https://api.pushshift.io/reddit/submission/search/?after='+days+'&sort_type=created_utc&sort=asc&subreddit='+subreddit_name\n",
    "df = pd.read_json(url,orient='split')\n",
    "df"
   ]
  },
  {
   "cell_type": "code",
   "execution_count": null,
   "metadata": {},
   "outputs": [],
   "source": [
    "dfa = df[['created_utc','author','score','title','selftext']]\n",
    "dfa"
   ]
  },
  {
   "cell_type": "code",
   "execution_count": null,
   "metadata": {},
   "outputs": [],
   "source": []
  }
 ],
 "metadata": {
  "kernelspec": {
   "display_name": "Python 3",
   "language": "python",
   "name": "python3"
  },
  "language_info": {
   "codemirror_mode": {
    "name": "ipython",
    "version": 3
   },
   "file_extension": ".py",
   "mimetype": "text/x-python",
   "name": "python",
   "nbconvert_exporter": "python",
   "pygments_lexer": "ipython3",
   "version": "3.6.8"
  }
 },
 "nbformat": 4,
 "nbformat_minor": 2
}
