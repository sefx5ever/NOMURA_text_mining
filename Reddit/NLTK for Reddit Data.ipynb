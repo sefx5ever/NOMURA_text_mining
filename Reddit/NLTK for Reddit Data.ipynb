{
 "cells": [
  {
   "cell_type": "code",
   "execution_count": 1,
   "metadata": {},
   "outputs": [],
   "source": [
    "import nltk\n",
    "import pandas as pd\n",
    "import matplotlib.pyplot as plt\n",
    "import datetime\n",
    "import time\n",
    "import re\n",
    "\n",
    "from nltk.corpus import stopwords\n",
    "from nltk.tokenize import word_tokenize \n",
    "from nltk.stem import WordNetLemmatizer\n",
    "\n",
    "#from gensim.models import Word2Vec\n",
    "#from sklearn.decomposition import PCA\n",
    "from sklearn.feature_extraction.text import CountVectorizer\n",
    "from sklearn.feature_extraction.text import TfidfTransformer\n",
    "\n",
    "\n",
    "stopwords = set(stopwords.words('english'))\n",
    "symbols   = ['.', ',', '’','“','”','\"', \"''\" ,\"'\",'*','``', '**','$','%','&','#','-','--',\"''\",'\"\"','?', '!', ':', ';', '(', ')', '[', ']', '{', '}',\"'s\",\"'m\",\"n't\"]\n",
    "stopwords.update(symbols)\n",
    "\n",
    "\n",
    "\n",
    "def remove_urls (source_text):\n",
    "    url_reg  = r'[a-z]*[:.]+\\S+'\n",
    "    result   = re.sub(url_reg, '', source_text)\n",
    "    return result"
   ]
  },
  {
   "cell_type": "code",
   "execution_count": 2,
   "metadata": {},
   "outputs": [
    {
     "data": {
      "text/html": [
       "<div>\n",
       "<style scoped>\n",
       "    .dataframe tbody tr th:only-of-type {\n",
       "        vertical-align: middle;\n",
       "    }\n",
       "\n",
       "    .dataframe tbody tr th {\n",
       "        vertical-align: top;\n",
       "    }\n",
       "\n",
       "    .dataframe thead th {\n",
       "        text-align: right;\n",
       "    }\n",
       "</style>\n",
       "<table border=\"1\" class=\"dataframe\">\n",
       "  <thead>\n",
       "    <tr style=\"text-align: right;\">\n",
       "      <th></th>\n",
       "      <th>Date</th>\n",
       "      <th>Name</th>\n",
       "      <th>Score</th>\n",
       "      <th>Title</th>\n",
       "      <th>Content</th>\n",
       "    </tr>\n",
       "  </thead>\n",
       "  <tbody>\n",
       "    <tr>\n",
       "      <th>0</th>\n",
       "      <td>2020-01-03</td>\n",
       "      <td>ChocolateTsar</td>\n",
       "      <td>1510</td>\n",
       "      <td>Tesla tops Wall Street estimates with a record...</td>\n",
       "      <td>&amp;gt;Tesla delivered a record 112,000 vehicles ...</td>\n",
       "    </tr>\n",
       "    <tr>\n",
       "      <th>1</th>\n",
       "      <td>2020-01-04</td>\n",
       "      <td>Fobulousguy</td>\n",
       "      <td>381</td>\n",
       "      <td>Is there any good ELI5 resources on PUTS, SHOR...</td>\n",
       "      <td>NaN</td>\n",
       "    </tr>\n",
       "    <tr>\n",
       "      <th>2</th>\n",
       "      <td>2020-01-02</td>\n",
       "      <td>FortyYearOldVirgin</td>\n",
       "      <td>380</td>\n",
       "      <td>Dow jumps 250 points, hits record as Wall Stre...</td>\n",
       "      <td>[https://www.cnbc.com/2020/01/02/dow-futures-p...</td>\n",
       "    </tr>\n",
       "    <tr>\n",
       "      <th>3</th>\n",
       "      <td>2020-01-04</td>\n",
       "      <td>CIARRAPUNGI</td>\n",
       "      <td>340</td>\n",
       "      <td>What was your path in learning about the stock...</td>\n",
       "      <td>NaN</td>\n",
       "    </tr>\n",
       "    <tr>\n",
       "      <th>4</th>\n",
       "      <td>2020-01-05</td>\n",
       "      <td>howtoreadspaghetti</td>\n",
       "      <td>312</td>\n",
       "      <td>I got bored and went through Amazon's financia...</td>\n",
       "      <td>[https://docs.google.com/spreadsheets/d/1naBI-...</td>\n",
       "    </tr>\n",
       "  </tbody>\n",
       "</table>\n",
       "</div>"
      ],
      "text/plain": [
       "         Date                Name  Score  \\\n",
       "0  2020-01-03       ChocolateTsar   1510   \n",
       "1  2020-01-04         Fobulousguy    381   \n",
       "2  2020-01-02  FortyYearOldVirgin    380   \n",
       "3  2020-01-04         CIARRAPUNGI    340   \n",
       "4  2020-01-05  howtoreadspaghetti    312   \n",
       "\n",
       "                                               Title  \\\n",
       "0  Tesla tops Wall Street estimates with a record...   \n",
       "1  Is there any good ELI5 resources on PUTS, SHOR...   \n",
       "2  Dow jumps 250 points, hits record as Wall Stre...   \n",
       "3  What was your path in learning about the stock...   \n",
       "4  I got bored and went through Amazon's financia...   \n",
       "\n",
       "                                             Content  \n",
       "0  &gt;Tesla delivered a record 112,000 vehicles ...  \n",
       "1                                                NaN  \n",
       "2  [https://www.cnbc.com/2020/01/02/dow-futures-p...  \n",
       "3                                                NaN  \n",
       "4  [https://docs.google.com/spreadsheets/d/1naBI-...  "
      ]
     },
     "execution_count": 2,
     "metadata": {},
     "output_type": "execute_result"
    }
   ],
   "source": [
    "time_filter = 'year'\n",
    "keywords  = 'hot'#\"fund\"\n",
    "search_date = datetime.datetime(2020,1,1)\n",
    "subreddit = 'investing'\n",
    "data = pd.read_csv('./Reddit Data/'+ subreddit + '_' +datetime.datetime.strftime(search_date,\"%Y-%m-%d\") + '.csv')\n",
    "#data = pd.read_csv('./Reddit Data/keywords_'+ datetime.datetime.strftime(search_date,\"%Y-%m-%d\") + '.csv')\n",
    "data.head()"
   ]
  },
  {
   "cell_type": "code",
   "execution_count": 3,
   "metadata": {},
   "outputs": [
    {
     "name": "stderr",
     "output_type": "stream",
     "text": [
      "C:\\Users\\Gunther\\Anaconda3\\lib\\site-packages\\pandas\\core\\indexing.py:670: SettingWithCopyWarning: \n",
      "A value is trying to be set on a copy of a slice from a DataFrame\n",
      "\n",
      "See the caveats in the documentation: https://pandas.pydata.org/pandas-docs/stable/user_guide/indexing.html#returning-a-view-versus-a-copy\n",
      "  self._setitem_with_indexer(indexer, value)\n"
     ]
    }
   ],
   "source": [
    "# Remove NaN\n",
    "data = data.dropna()\n",
    "data.reset_index()\n",
    "\n",
    "# Remove the http and https\n",
    "for i in range(len(data)):\n",
    "    data['Content'].iloc[i] = remove_urls(data['Content'].iloc[i])"
   ]
  },
  {
   "cell_type": "code",
   "execution_count": 8,
   "metadata": {},
   "outputs": [
    {
     "name": "stdout",
     "output_type": "stream",
     "text": [
      "Total available data : 5111\n"
     ]
    }
   ],
   "source": [
    "print(\"Total available data :\",len(data))\n",
    "filtered_title = []\n",
    "filtered_content = []\n",
    "lemmatizer = WordNetLemmatizer()\n",
    "for title, content in zip(data['Title'], data['Content']):\n",
    "    filtered_title.append([lemmatizer.lemmatize(word, pos=\"n\") for word in word_tokenize(title.lower()) if word not in stopwords])\n",
    "    filtered_content.append([lemmatizer.lemmatize(word, pos=\"n\")  for word in word_tokenize(content.lower()) if word not in stopwords])\n"
   ]
  },
  {
   "cell_type": "markdown",
   "metadata": {},
   "source": [
    "# Word frequency for Title"
   ]
  },
  {
   "cell_type": "code",
   "execution_count": 9,
   "metadata": {},
   "outputs": [
    {
     "data": {
      "image/png": "[encoded data removed]",
      "text/plain": [
       "<Figure size 1152x288 with 1 Axes>"
      ]
     },
     "metadata": {
      "needs_background": "light"
     },
     "output_type": "display_data"
    }
   ],
   "source": [
    "all_filtered_title = sum(filtered_title, [])\n",
    "fdist_title = nltk.FreqDist(all_filtered_title)\n",
    "plt.figure(figsize=(16,4))\n",
    "fdist_title.plot(40,cumulative=False)"
   ]
  },
  {
   "cell_type": "code",
   "execution_count": 10,
   "metadata": {},
   "outputs": [
    {
     "data": {
      "text/html": [
       "<div>\n",
       "<style scoped>\n",
       "    .dataframe tbody tr th:only-of-type {\n",
       "        vertical-align: middle;\n",
       "    }\n",
       "\n",
       "    .dataframe tbody tr th {\n",
       "        vertical-align: top;\n",
       "    }\n",
       "\n",
       "    .dataframe thead th {\n",
       "        text-align: right;\n",
       "    }\n",
       "</style>\n",
       "<table border=\"1\" class=\"dataframe\">\n",
       "  <thead>\n",
       "    <tr style=\"text-align: right;\">\n",
       "      <th></th>\n",
       "      <th>Counts</th>\n",
       "    </tr>\n",
       "  </thead>\n",
       "  <tbody>\n",
       "    <tr>\n",
       "      <th>stock</th>\n",
       "      <td>599</td>\n",
       "    </tr>\n",
       "    <tr>\n",
       "      <th>market</th>\n",
       "      <td>456</td>\n",
       "    </tr>\n",
       "    <tr>\n",
       "      <th>investing</th>\n",
       "      <td>443</td>\n",
       "    </tr>\n",
       "    <tr>\n",
       "      <th>fund</th>\n",
       "      <td>393</td>\n",
       "    </tr>\n",
       "    <tr>\n",
       "      <th>etf</th>\n",
       "      <td>301</td>\n",
       "    </tr>\n",
       "  </tbody>\n",
       "</table>\n",
       "</div>"
      ],
      "text/plain": [
       "           Counts\n",
       "stock         599\n",
       "market        456\n",
       "investing     443\n",
       "fund          393\n",
       "etf           301"
      ]
     },
     "execution_count": 10,
     "metadata": {},
     "output_type": "execute_result"
    }
   ],
   "source": [
    "df_title = pd.DataFrame.from_dict(fdist_title, orient='index')\n",
    "df_title.columns = ['Counts']\n",
    "df_title = df_title.sort_values(by=['Counts'], ascending=False)\n",
    "df_title.head()"
   ]
  },
  {
   "cell_type": "markdown",
   "metadata": {},
   "source": [
    "# Word frequency for Content"
   ]
  },
  {
   "cell_type": "code",
   "execution_count": 11,
   "metadata": {},
   "outputs": [
    {
     "data": {
      "image/png": "[encoded data removed]",
      "text/plain": [
       "<Figure size 1152x288 with 1 Axes>"
      ]
     },
     "metadata": {
      "needs_background": "light"
     },
     "output_type": "display_data"
    }
   ],
   "source": [
    "all_filtered_content = sum(filtered_content, [])\n",
    "fdist_content = nltk.FreqDist(all_filtered_content)\n",
    "plt.figure(figsize=(16,4))\n",
    "fdist_content.plot(40,cumulative=False)"
   ]
  },
  {
   "cell_type": "code",
   "execution_count": 12,
   "metadata": {},
   "outputs": [
    {
     "data": {
      "text/html": [
       "<div>\n",
       "<style scoped>\n",
       "    .dataframe tbody tr th:only-of-type {\n",
       "        vertical-align: middle;\n",
       "    }\n",
       "\n",
       "    .dataframe tbody tr th {\n",
       "        vertical-align: top;\n",
       "    }\n",
       "\n",
       "    .dataframe thead th {\n",
       "        text-align: right;\n",
       "    }\n",
       "</style>\n",
       "<table border=\"1\" class=\"dataframe\">\n",
       "  <thead>\n",
       "    <tr style=\"text-align: right;\">\n",
       "      <th></th>\n",
       "      <th>Counts</th>\n",
       "    </tr>\n",
       "  </thead>\n",
       "  <tbody>\n",
       "    <tr>\n",
       "      <th>stock</th>\n",
       "      <td>2641</td>\n",
       "    </tr>\n",
       "    <tr>\n",
       "      <th>year</th>\n",
       "      <td>2479</td>\n",
       "    </tr>\n",
       "    <tr>\n",
       "      <th>fund</th>\n",
       "      <td>2200</td>\n",
       "    </tr>\n",
       "    <tr>\n",
       "      <th>market</th>\n",
       "      <td>2106</td>\n",
       "    </tr>\n",
       "    <tr>\n",
       "      <th>would</th>\n",
       "      <td>2051</td>\n",
       "    </tr>\n",
       "  </tbody>\n",
       "</table>\n",
       "</div>"
      ],
      "text/plain": [
       "        Counts\n",
       "stock     2641\n",
       "year      2479\n",
       "fund      2200\n",
       "market    2106\n",
       "would     2051"
      ]
     },
     "execution_count": 12,
     "metadata": {},
     "output_type": "execute_result"
    }
   ],
   "source": [
    "df_content = pd.DataFrame.from_dict(fdist_content, orient='index')\n",
    "df_content.columns = ['Counts']\n",
    "df_content = df_content.sort_values(by=['Counts'], ascending=False)\n",
    "df_content.head()"
   ]
  },
  {
   "cell_type": "markdown",
   "metadata": {},
   "source": [
    "# TF-IDF for Title"
   ]
  },
  {
   "cell_type": "code",
   "execution_count": 15,
   "metadata": {},
   "outputs": [],
   "source": [
    "filtered_title_sentence = []\n",
    "for i in range(len(filtered_title)):\n",
    "    filtered_title_sentence.append(' '.join(filtered_title[i]))\n",
    "    \n",
    "vectorizer  = CountVectorizer()\n",
    "transformer = TfidfTransformer()\n",
    "tfidf  = transformer.fit_transform(vectorizer.fit_transform(filtered_title_sentence))\n",
    "word   = vectorizer.get_feature_names()\n",
    "weight = tfidf.toarray()\n",
    "tfidf_table = {'Word':word,'Weight':sum(weight)}"
   ]
  },
  {
   "cell_type": "code",
   "execution_count": 18,
   "metadata": {},
   "outputs": [],
   "source": [
    "df_tfidf = pd.DataFrame(tfidf_table)\n",
    "df_tfidf = df_tfidf.set_index('Word')\n",
    "df_tfidf = df_tfidf.sort_values(by=['Weight'], ascending=False)"
   ]
  },
  {
   "cell_type": "code",
   "execution_count": 23,
   "metadata": {},
   "outputs": [
    {
     "data": {
      "text/html": [
       "<div>\n",
       "<style scoped>\n",
       "    .dataframe tbody tr th:only-of-type {\n",
       "        vertical-align: middle;\n",
       "    }\n",
       "\n",
       "    .dataframe tbody tr th {\n",
       "        vertical-align: top;\n",
       "    }\n",
       "\n",
       "    .dataframe thead th {\n",
       "        text-align: right;\n",
       "    }\n",
       "</style>\n",
       "<table border=\"1\" class=\"dataframe\">\n",
       "  <thead>\n",
       "    <tr style=\"text-align: right;\">\n",
       "      <th></th>\n",
       "      <th>Weight</th>\n",
       "    </tr>\n",
       "    <tr>\n",
       "      <th>Word</th>\n",
       "      <th></th>\n",
       "    </tr>\n",
       "  </thead>\n",
       "  <tbody>\n",
       "    <tr>\n",
       "      <th>stock</th>\n",
       "      <td>140.440114</td>\n",
       "    </tr>\n",
       "    <tr>\n",
       "      <th>investing</th>\n",
       "      <td>137.388373</td>\n",
       "    </tr>\n",
       "    <tr>\n",
       "      <th>market</th>\n",
       "      <td>108.181628</td>\n",
       "    </tr>\n",
       "    <tr>\n",
       "      <th>fund</th>\n",
       "      <td>107.356864</td>\n",
       "    </tr>\n",
       "    <tr>\n",
       "      <th>question</th>\n",
       "      <td>105.534240</td>\n",
       "    </tr>\n",
       "  </tbody>\n",
       "</table>\n",
       "</div>"
      ],
      "text/plain": [
       "               Weight\n",
       "Word                 \n",
       "stock      140.440114\n",
       "investing  137.388373\n",
       "market     108.181628\n",
       "fund       107.356864\n",
       "question   105.534240"
      ]
     },
     "execution_count": 23,
     "metadata": {},
     "output_type": "execute_result"
    }
   ],
   "source": [
    "df_tfidf[:5]"
   ]
  },
  {
   "cell_type": "markdown",
   "metadata": {},
   "source": [
    "# TF-IDF for Content"
   ]
  },
  {
   "cell_type": "code",
   "execution_count": 24,
   "metadata": {},
   "outputs": [],
   "source": [
    "filtered_content_sentence = []\n",
    "for i in range(len(filtered_content)):\n",
    "    filtered_content_sentence.append(' '.join(filtered_content[i]))\n",
    "    \n",
    "vectorizer  = CountVectorizer()\n",
    "transformer = TfidfTransformer()\n",
    "tfidf  = transformer.fit_transform(vectorizer.fit_transform(filtered_content_sentence))\n",
    "word   = vectorizer.get_feature_names()\n",
    "weight = tfidf.toarray()\n",
    "tfidf_table = {'Word':word,'Weight':sum(weight)}"
   ]
  },
  {
   "cell_type": "code",
   "execution_count": 25,
   "metadata": {},
   "outputs": [],
   "source": [
    "df_tfidf = pd.DataFrame(tfidf_table)\n",
    "df_tfidf = df_tfidf.set_index('Word')\n",
    "df_tfidf = df_tfidf.sort_values(by=['Weight'], ascending=False)"
   ]
  },
  {
   "cell_type": "code",
   "execution_count": 28,
   "metadata": {},
   "outputs": [
    {
     "data": {
      "text/html": [
       "<div>\n",
       "<style scoped>\n",
       "    .dataframe tbody tr th:only-of-type {\n",
       "        vertical-align: middle;\n",
       "    }\n",
       "\n",
       "    .dataframe tbody tr th {\n",
       "        vertical-align: top;\n",
       "    }\n",
       "\n",
       "    .dataframe thead th {\n",
       "        text-align: right;\n",
       "    }\n",
       "</style>\n",
       "<table border=\"1\" class=\"dataframe\">\n",
       "  <thead>\n",
       "    <tr style=\"text-align: right;\">\n",
       "      <th></th>\n",
       "      <th>Weight</th>\n",
       "    </tr>\n",
       "    <tr>\n",
       "      <th>Word</th>\n",
       "      <th></th>\n",
       "    </tr>\n",
       "  </thead>\n",
       "  <tbody>\n",
       "    <tr>\n",
       "      <th>removed</th>\n",
       "      <td>463.623587</td>\n",
       "    </tr>\n",
       "    <tr>\n",
       "      <th>stock</th>\n",
       "      <td>146.131901</td>\n",
       "    </tr>\n",
       "    <tr>\n",
       "      <th>year</th>\n",
       "      <td>126.375823</td>\n",
       "    </tr>\n",
       "    <tr>\n",
       "      <th>fund</th>\n",
       "      <td>113.627226</td>\n",
       "    </tr>\n",
       "    <tr>\n",
       "      <th>would</th>\n",
       "      <td>112.392714</td>\n",
       "    </tr>\n",
       "    <tr>\n",
       "      <th>market</th>\n",
       "      <td>106.303912</td>\n",
       "    </tr>\n",
       "    <tr>\n",
       "      <th>investing</th>\n",
       "      <td>103.020248</td>\n",
       "    </tr>\n",
       "    <tr>\n",
       "      <th>deleted</th>\n",
       "      <td>100.938219</td>\n",
       "    </tr>\n",
       "    <tr>\n",
       "      <th>money</th>\n",
       "      <td>95.101207</td>\n",
       "    </tr>\n",
       "    <tr>\n",
       "      <th>like</th>\n",
       "      <td>94.256035</td>\n",
       "    </tr>\n",
       "    <tr>\n",
       "      <th>account</th>\n",
       "      <td>87.416234</td>\n",
       "    </tr>\n",
       "    <tr>\n",
       "      <th>company</th>\n",
       "      <td>85.304251</td>\n",
       "    </tr>\n",
       "    <tr>\n",
       "      <th>etf</th>\n",
       "      <td>80.059395</td>\n",
       "    </tr>\n",
       "    <tr>\n",
       "      <th>invest</th>\n",
       "      <td>79.632440</td>\n",
       "    </tr>\n",
       "    <tr>\n",
       "      <th>buy</th>\n",
       "      <td>77.148289</td>\n",
       "    </tr>\n",
       "    <tr>\n",
       "      <th>know</th>\n",
       "      <td>75.077235</td>\n",
       "    </tr>\n",
       "    <tr>\n",
       "      <th>amp</th>\n",
       "      <td>72.074034</td>\n",
       "    </tr>\n",
       "    <tr>\n",
       "      <th>anyone</th>\n",
       "      <td>71.634652</td>\n",
       "    </tr>\n",
       "    <tr>\n",
       "      <th>time</th>\n",
       "      <td>71.355747</td>\n",
       "    </tr>\n",
       "    <tr>\n",
       "      <th>get</th>\n",
       "      <td>68.549517</td>\n",
       "    </tr>\n",
       "  </tbody>\n",
       "</table>\n",
       "</div>"
      ],
      "text/plain": [
       "               Weight\n",
       "Word                 \n",
       "removed    463.623587\n",
       "stock      146.131901\n",
       "year       126.375823\n",
       "fund       113.627226\n",
       "would      112.392714\n",
       "market     106.303912\n",
       "investing  103.020248\n",
       "deleted    100.938219\n",
       "money       95.101207\n",
       "like        94.256035\n",
       "account     87.416234\n",
       "company     85.304251\n",
       "etf         80.059395\n",
       "invest      79.632440\n",
       "buy         77.148289\n",
       "know        75.077235\n",
       "amp         72.074034\n",
       "anyone      71.634652\n",
       "time        71.355747\n",
       "get         68.549517"
      ]
     },
     "execution_count": 28,
     "metadata": {},
     "output_type": "execute_result"
    }
   ],
   "source": [
    "df_tfidf[:20]"
   ]
  },
  {
   "cell_type": "code",
   "execution_count": null,
   "metadata": {},
   "outputs": [],
   "source": []
  }
 ],
 "metadata": {
  "kernelspec": {
   "display_name": "Python 3",
   "language": "python",
   "name": "python3"
  },
  "language_info": {
   "codemirror_mode": {
    "name": "ipython",
    "version": 3
   },
   "file_extension": ".py",
   "mimetype": "text/x-python",
   "name": "python",
   "nbconvert_exporter": "python",
   "pygments_lexer": "ipython3",
   "version": "3.6.8"
  }
 },
 "nbformat": 4,
 "nbformat_minor": 2
}
