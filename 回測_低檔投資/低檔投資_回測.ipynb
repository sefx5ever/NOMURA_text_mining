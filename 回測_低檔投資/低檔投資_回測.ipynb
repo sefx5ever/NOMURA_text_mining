{
 "cells": [
  {
   "cell_type": "code",
   "execution_count": null,
   "metadata": {},
   "outputs": [],
   "source": [
    "import pandas as pd\n",
    "import statistics\n",
    "import datetime "
   ]
  },
  {
   "cell_type": "code",
   "execution_count": null,
   "metadata": {},
   "outputs": [],
   "source": [
    "# 計算報酬率\n",
    "def sell_return(today_nv, buy_nv, today_date, buy_date): # 計算賣出報酬率\n",
    "    hold_days = (today_date - buy_date).days\n",
    "    ret = (today_nv - buy_nv)/ buy_nv\n",
    "\n",
    "    return ret"
   ]
  },
  {
   "cell_type": "code",
   "execution_count": null,
   "metadata": {},
   "outputs": [],
   "source": [
    "# import data #\n",
    "#基金資料, 多 read 幾個sheet包成迴圈就可以一次測很多檔基金，可以把結果輸出成excel\n",
    "df_fund = pd.read_excel(\"基金資料.xlsx\") \n",
    "df_fund['年月日'] = pd.to_datetime(df_fund['年月日'])\n",
    "\n"
   ]
  },
  {
   "cell_type": "code",
   "execution_count": null,
   "metadata": {},
   "outputs": [],
   "source": [
    "#低檔投資法回測 ：10% 加碼, 淨值若比10天前下跌10%,「隔天」就加碼\n",
    "df_10_percent = pd.DataFrame(columns = [\"買進日\",\"買入價格\",\"加碼\"]) # 存回測結果\n",
    "unit = 1 # 持有單位,假設創立之初先買一單位\n",
    "start_index = 0 # 測試不同時間開始的報酬率\n",
    "buy_nv = df_fund.loc[0,'淨值(元)'] # 假設成立當日就先買一單位\n",
    "df_10_percent = df_10_percent.append({\"買進日\":df_fund.loc[0,'年月日'],\n",
    "                                      \"買入價格\" : buy_nv, \n",
    "                                      \"加碼\": \"x\"}, ignore_index=True)\n",
    "\n",
    "for i,item in df_fund.iterrows():\n",
    "    if((item['年月日']-df_fund.loc[start_index,'年月日']).days >= 30): # 定期定額\n",
    "        unit = unit + 1\n",
    "        buy_nv = buy_nv + df_fund.loc[i,'淨值(元)']\n",
    "        start_index = i\n",
    "        df_10_percent = df_10_percent.append({\"買進日\": item['年月日'], \n",
    "                                              \"買入價格\" : item['淨值(元)'], \n",
    "                                              \"加碼\": \"x\"}, ignore_index=True)\n",
    "    \n",
    "    if(i>=10):\n",
    "        print(i,\":\", (item['淨值(元)'] - df_fund.loc[i-10,'淨值(元)'])*100/df_fund.loc[i-10,'淨值(元)'])\n",
    "        if( item['淨值(元)'] <= 0.9*(df_fund.loc[i-10,'淨值(元)']) ): # 加碼\n",
    "            buy_date = df_fund.loc[i+1,'年月日']\n",
    "            unit = unit + 1\n",
    "            buy_nv = buy_nv + df_fund.loc[i+1,'淨值(元)']\n",
    "            df_10_percent = df_10_percent.append({\"買進日\":buy_date, \n",
    "                                                  \"買入價格\" : df_fund.loc[i+1,'淨值(元)'], \n",
    "                                                  \"加碼\": \"v\"}, ignore_index=True)\n",
    "print(\"end loop\")\n",
    "print(unit)\n",
    "\n",
    "profit_ret = sell_return(unit*df_fund.loc[len(df_fund)-1,'淨值(元)'], buy_nv,\n",
    "                         df_fund.loc[len(df_fund)-1,'年月日'], df_10_percent.loc[0,'買進日'])\n",
    "    \n",
    "#pd.set_option('display.max_rows', None)\n",
    "df_10_percent"
   ]
  }
 ],
 "metadata": {
  "kernelspec": {
   "display_name": "Python 3",
   "language": "python",
   "name": "python3"
  },
  "language_info": {
   "codemirror_mode": {
    "name": "ipython",
    "version": 3
   },
   "file_extension": ".py",
   "mimetype": "text/x-python",
   "name": "python",
   "nbconvert_exporter": "python",
   "pygments_lexer": "ipython3",
   "version": "3.7.3"
  }
 },
 "nbformat": 4,
 "nbformat_minor": 2
}
