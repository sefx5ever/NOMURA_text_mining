{
 "cells": [
  {
   "cell_type": "code",
   "execution_count": 1,
   "metadata": {},
   "outputs": [],
   "source": [
    "import os\n",
    "import requests\n",
    "import pandas as pd\n",
    "import matplotlib.pyplot as plt\n",
    "import codecs\n",
    "import re\n",
    "from bs4 import BeautifulSoup\n",
    "\n",
    "import nltk\n",
    "from nltk import pos_tag\n",
    "from nltk.corpus import stopwords,wordnet\n",
    "from nltk.tokenize import word_tokenize \n",
    "from nltk.stem import WordNetLemmatizer\n",
    "\n",
    "stopwords = set(stopwords.words('english'))\n",
    "symbols   = ['.', ',', '’','•','“','”','\"', \"''\" ,'|',\"'\",'*','``','...', '**','$','%','&','#','-','--',\"''\",'\"\"','?', '!', ':', ';', '(', ')', '[', ']', '{', '}',\"'s\",\"'m\",\"n't\"]\n",
    "\n",
    "stopwords.update(symbols)\n",
    "\n",
    "\n",
    "def createFolder(directory):\n",
    "    try:\n",
    "        if not os.path.exists(directory):\n",
    "            os.makedirs(directory)\n",
    "    except OSError:\n",
    "        print ('Error: Creating directory. ' +  directory)\n",
    "        \n",
    "def getTag(ItemNo):     \n",
    "    \n",
    "    # Find Item location\n",
    "    Item_TAG = soup.find_all('div', string=re.compile(r\"^I[tT][eE][mM].\"+str(ItemNo)+\"[\\W]\"))\n",
    "    if len(Item_TAG) == 0:\n",
    "        Item_TAG = soup.find_all('p', string=re.compile(r\"^I[tT][eE][mM].\"+str(ItemNo)+\"[\\W]\"))\n",
    "        if len(Item_TAG) == 0:\n",
    "            print('Get Error !')\n",
    "            \n",
    "    # Return the last found tag \n",
    "    return Item_TAG[-1]\n",
    "    "
   ]
  },
  {
   "cell_type": "code",
   "execution_count": 2,
   "metadata": {},
   "outputs": [],
   "source": [
    "Company = ['AAPL', 'GOOGL', 'HCA']\n",
    "company = Company[1]\n",
    "\n",
    "path    = './10-K Data/'+company\n",
    "dic     = {}\n",
    "\n",
    "for dirPath, dirNames, fileNames in os.walk(path):\n",
    "    for f in fileNames:\n",
    "        if bool(re.search(r\"txt$\",f)):\n",
    "            year = re.findall(r\"-\\d\\d-\",f)[0]\n",
    "            year = int('20'+ year[1]+year[2])-1\n",
    "            dic[year] = os.path.join(dirPath, f)"
   ]
  },
  {
   "cell_type": "code",
   "execution_count": 3,
   "metadata": {},
   "outputs": [
    {
     "name": "stdout",
     "output_type": "stream",
     "text": [
      "./10-K Data/GOOGL\\0001652044\\10-k\\0001652044-19-000004.txt\n"
     ]
    }
   ],
   "source": [
    "year = 2018\n",
    "file = codecs.open(dic[year], \"r\", \"utf-8\")\n",
    "soup = BeautifulSoup(file.read(), \"lxml\")\n",
    "print(dic[year])"
   ]
  },
  {
   "cell_type": "code",
   "execution_count": 5,
   "metadata": {},
   "outputs": [
    {
     "name": "stdout",
     "output_type": "stream",
     "text": [
      "Item 1 finished with 346\n",
      "Item 5 finished with 69\n",
      "Item 7 finished with 1406\n",
      "All Data with 1821\n"
     ]
    }
   ],
   "source": [
    "Data,Item1,Item5,Item7 = [],[],[],[]\n",
    "lemmatizer = WordNetLemmatizer()\n",
    "constraint = 3000\n",
    "content = None\n",
    "\n",
    "# Item 1           \n",
    "for tag in getTag(1):\n",
    "    i = 0\n",
    "    for element in tag.next_elements:\n",
    "        if element.name == 'div' and element.string != None and element.string != content:\n",
    "            content = element.string\n",
    "            Item1.append(content)\n",
    "            Data.append([lemmatizer.lemmatize(word, pos=\"n\")  for word in word_tokenize(content.lower()) if lemmatizer.lemmatize(word, pos=\"n\") not in stopwords])\n",
    "            i += 1 \n",
    "        if bool(re.search(r\"^I[tT][eE][mM].2[\\W]\", str(element.string))):\n",
    "            print('Item 1 finished with',len(Item1))\n",
    "            break\n",
    "        if i > constraint:\n",
    "            break    \n",
    "            \n",
    "# Item 5           \n",
    "for tag in getTag(5):\n",
    "    i = 0\n",
    "    for element in tag.next_elements:\n",
    "        if element.name == 'div' and element.string != None and element.string != content:\n",
    "            content = element.string\n",
    "            Item5.append(content)\n",
    "            Data.append([lemmatizer.lemmatize(word, pos=\"n\")  for word in word_tokenize(content.lower()) if lemmatizer.lemmatize(word, pos=\"n\") not in stopwords])\n",
    "            i += 1 \n",
    "        if bool(re.search(r\"^I[tT][eE][mM].6[\\W]\", str(element.string))):\n",
    "            print('Item 5 finished with',len(Item5))\n",
    "            break\n",
    "        if i > constraint:\n",
    "            break\n",
    "            \n",
    "# Item 7\n",
    "for tag in getTag(7):\n",
    "    i = 0\n",
    "    for element in tag.next_elements:\n",
    "        if element.name == 'div' and element.string != None and element.string != content:\n",
    "            content = element.string\n",
    "            Item7.append(content)\n",
    "            Data.append([lemmatizer.lemmatize(word, pos=\"n\")  for word in word_tokenize(content.lower()) if lemmatizer.lemmatize(word, pos=\"n\") not in stopwords])\n",
    "            i += 1 \n",
    "        if bool(re.search(r\"^I[tT][eE][mM].8[\\W]\", str(element.string))):\n",
    "            print('Item 7 finished with',len(Item7))\n",
    "            break\n",
    "        if i > constraint:\n",
    "            break\n",
    "\n",
    "print('All Data with',len(Data))"
   ]
  },
  {
   "cell_type": "code",
   "execution_count": 6,
   "metadata": {},
   "outputs": [
    {
     "data": {
      "image/png": "[encoded data removed]",
      "text/plain": [
       "<Figure size 1152x288 with 1 Axes>"
      ]
     },
     "metadata": {
      "needs_background": "light"
     },
     "output_type": "display_data"
    }
   ],
   "source": [
    "Data = sum(Data, [])\n",
    "fdist_content = nltk.FreqDist(Data)\n",
    "plt.figure(figsize=(16,4))\n",
    "fdist_content.plot(40,cumulative=False)"
   ]
  },
  {
   "cell_type": "code",
   "execution_count": 7,
   "metadata": {},
   "outputs": [
    {
     "data": {
      "text/html": [
       "<div>\n",
       "<style scoped>\n",
       "    .dataframe tbody tr th:only-of-type {\n",
       "        vertical-align: middle;\n",
       "    }\n",
       "\n",
       "    .dataframe tbody tr th {\n",
       "        vertical-align: top;\n",
       "    }\n",
       "\n",
       "    .dataframe thead th {\n",
       "        text-align: right;\n",
       "    }\n",
       "</style>\n",
       "<table border=\"1\" class=\"dataframe\">\n",
       "  <thead>\n",
       "    <tr style=\"text-align: right;\">\n",
       "      <th></th>\n",
       "      <th>Counts</th>\n",
       "    </tr>\n",
       "  </thead>\n",
       "  <tbody>\n",
       "    <tr>\n",
       "      <th>revenue</th>\n",
       "      <td>187</td>\n",
       "    </tr>\n",
       "    <tr>\n",
       "      <th>may</th>\n",
       "      <td>140</td>\n",
       "    </tr>\n",
       "    <tr>\n",
       "      <th>google</th>\n",
       "      <td>138</td>\n",
       "    </tr>\n",
       "    <tr>\n",
       "      <th>business</th>\n",
       "      <td>130</td>\n",
       "    </tr>\n",
       "    <tr>\n",
       "      <th>product</th>\n",
       "      <td>127</td>\n",
       "    </tr>\n",
       "    <tr>\n",
       "      <th>result</th>\n",
       "      <td>126</td>\n",
       "    </tr>\n",
       "    <tr>\n",
       "      <th>could</th>\n",
       "      <td>125</td>\n",
       "    </tr>\n",
       "    <tr>\n",
       "      <th>service</th>\n",
       "      <td>120</td>\n",
       "    </tr>\n",
       "    <tr>\n",
       "      <th>content</th>\n",
       "      <td>86</td>\n",
       "    </tr>\n",
       "    <tr>\n",
       "      <th>change</th>\n",
       "      <td>81</td>\n",
       "    </tr>\n",
       "  </tbody>\n",
       "</table>\n",
       "</div>"
      ],
      "text/plain": [
       "          Counts\n",
       "revenue      187\n",
       "may          140\n",
       "google       138\n",
       "business     130\n",
       "product      127\n",
       "result       126\n",
       "could        125\n",
       "service      120\n",
       "content       86\n",
       "change        81"
      ]
     },
     "execution_count": 7,
     "metadata": {},
     "output_type": "execute_result"
    }
   ],
   "source": [
    "df_content = pd.DataFrame.from_dict(fdist_content, orient='index')\n",
    "df_content.columns = ['Counts']\n",
    "df_content = df_content.sort_values(by=['Counts'], ascending=False)\n",
    "df_content.to_csv(path+'/'+str(year)+'.csv')\n",
    "df_content[:10]"
   ]
  },
  {
   "cell_type": "code",
   "execution_count": null,
   "metadata": {},
   "outputs": [],
   "source": []
  },
  {
   "cell_type": "code",
   "execution_count": null,
   "metadata": {},
   "outputs": [],
   "source": []
  }
 ],
 "metadata": {
  "kernelspec": {
   "display_name": "Python 3",
   "language": "python",
   "name": "python3"
  },
  "language_info": {
   "codemirror_mode": {
    "name": "ipython",
    "version": 3
   },
   "file_extension": ".py",
   "mimetype": "text/x-python",
   "name": "python",
   "nbconvert_exporter": "python",
   "pygments_lexer": "ipython3",
   "version": "3.6.8"
  }
 },
 "nbformat": 4,
 "nbformat_minor": 2
}
