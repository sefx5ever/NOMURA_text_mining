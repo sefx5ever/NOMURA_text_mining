{
 "cells": [
  {
   "cell_type": "markdown",
   "metadata": {},
   "source": [
    "# SEC Crawler API\n",
    "\n",
    "pip install sec-edgar-downloader\n"
   ]
  },
  {
   "cell_type": "code",
   "execution_count": 1,
   "metadata": {},
   "outputs": [],
   "source": [
    "# sec crawler API\n",
    "# pip install sec-edgar-downloader\n",
    "\n",
    "import os\n",
    "import re\n",
    "import requests\n",
    "import pandas as pd\n",
    "import datetime\n",
    "import time\n",
    "import pickle\n",
    "from sec_edgar_downloader import Downloader\n",
    "\n",
    "\n",
    "def createFolder(directory):\n",
    "    try:\n",
    "        if not os.path.exists(directory):\n",
    "            os.makedirs(directory)\n",
    "    except OSError:\n",
    "        print ('Error: Creating directory. ' +  directory)\n"
   ]
  },
  {
   "cell_type": "markdown",
   "metadata": {},
   "source": [
    "# Download 10-K in Specific Company "
   ]
  },
  {
   "cell_type": "code",
   "execution_count": 8,
   "metadata": {},
   "outputs": [],
   "source": [
    "Company = ['AMZN', 'JPM', 'GOOGL']\n",
    "\n",
    "Available = []\n",
    "dl = Downloader('./10-K Data/')\n",
    "for company in Company: \n",
    "    dl.get(\"10-K\", company, 5)\n",
    "    Available.append(company)"
   ]
  },
  {
   "cell_type": "markdown",
   "metadata": {},
   "source": [
    "# Download 10-K in S&P 500 Company \n"
   ]
  },
  {
   "cell_type": "code",
   "execution_count": null,
   "metadata": {},
   "outputs": [],
   "source": [
    "# Read All S&P 500 Company\n",
    "df = pd.read_csv('./SP company.csv')\n",
    "Available = []\n",
    "dl = Downloader('./10-K Data/')\n",
    "for company in df['Symbol']: \n",
    "    dl.get(\"10-K\", company, 5)\n",
    "    Available.append(company)"
   ]
  },
  {
   "cell_type": "markdown",
   "metadata": {},
   "source": [
    "# Download 10-K in Nomura Report Company"
   ]
  },
  {
   "cell_type": "code",
   "execution_count": 10,
   "metadata": {},
   "outputs": [
    {
     "name": "stdout",
     "output_type": "stream",
     "text": [
      "Total Company: 67\n"
     ]
    }
   ],
   "source": [
    "path    = './Nomura_Report/'\n",
    "Company = []\n",
    "\n",
    "for dirPath, dirNames, fileNames in os.walk(path):\n",
    "    for f in fileNames:\n",
    "        if bool(re.search(r\"csv$\",f)):\n",
    "            df = pd.read_csv(os.path.join(dirPath, f))\n",
    "            Company.append(list(df['t_name']))\n",
    "\n",
    "Company = sum (Company,[])\n",
    "Company = list(set(Company))\n",
    "with open(path+'Company.pkl', 'wb') as f:\n",
    "    pickle.dump(Company, f)\n",
    "print('Total Company:',len(Company))"
   ]
  },
  {
   "cell_type": "code",
   "execution_count": 4,
   "metadata": {},
   "outputs": [],
   "source": [
    "Available = []\n",
    "dl = Downloader('./10-K Data/')\n",
    "for company in Company: \n",
    "    dl.get(\"10-K\", company, 5)\n",
    "    Available.append(company)"
   ]
  },
  {
   "cell_type": "code",
   "execution_count": 12,
   "metadata": {},
   "outputs": [
    {
     "name": "stdout",
     "output_type": "stream",
     "text": [
      "Total Company: 67\n",
      "Total Available Company: 67\n"
     ]
    }
   ],
   "source": [
    "with open(path+'Available.pkl', 'wb') as f:\n",
    "    pickle.dump(Available, f)\n",
    "\n",
    "Error = [company for company in Company if company not in Available]\n",
    "with open(path+'Error.pkl', 'wb') as f:\n",
    "    pickle.dump(Error, f)\n",
    "    \n",
    "print('Total Company:',len(Company))\n",
    "print('Total Available Company:',len(Available))"
   ]
  },
  {
   "cell_type": "code",
   "execution_count": null,
   "metadata": {},
   "outputs": [],
   "source": []
  },
  {
   "cell_type": "code",
   "execution_count": null,
   "metadata": {},
   "outputs": [],
   "source": []
  }
 ],
 "metadata": {
  "kernelspec": {
   "display_name": "Python 3",
   "language": "python",
   "name": "python3"
  },
  "language_info": {
   "codemirror_mode": {
    "name": "ipython",
    "version": 3
   },
   "file_extension": ".py",
   "mimetype": "text/x-python",
   "name": "python",
   "nbconvert_exporter": "python",
   "pygments_lexer": "ipython3",
   "version": "3.6.8"
  }
 },
 "nbformat": 4,
 "nbformat_minor": 2
}
