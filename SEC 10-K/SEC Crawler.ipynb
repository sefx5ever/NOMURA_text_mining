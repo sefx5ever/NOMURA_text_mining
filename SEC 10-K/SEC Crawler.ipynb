{
 "cells": [
  {
   "cell_type": "markdown",
   "metadata": {},
   "source": [
    "# SEC Crawler API\n",
    "pip install git+https://github.com/coyo8/sec-edgar.git <br>\n",
    "Note the Beautiful Soup need to be downgrade <br>\n",
    "pip install --upgrade html5lib==1.0b8 <br>"
   ]
  },
  {
   "cell_type": "code",
   "execution_count": 183,
   "metadata": {},
   "outputs": [],
   "source": [
    "# sec crawler API\n",
    "# pip install git+https://github.com/coyo8/sec-edgar.git\n",
    "# Note the Beautiful Soup need to be downgrade \n",
    "# pip install --upgrade html5lib==1.0b8\n",
    "\n",
    "import os\n",
    "import requests\n",
    "import pandas as pd\n",
    "import matplotlib.pyplot as plt\n",
    "import datetime\n",
    "import time\n",
    "import secedgar\n",
    "from secedgar.filings import Filing, FilingType, CIK\n",
    "\n",
    "def createFolder(directory):\n",
    "    try:\n",
    "        if not os.path.exists(directory):\n",
    "            os.makedirs(directory)\n",
    "    except OSError:\n",
    "        print ('Error: Creating directory. ' +  directory)\n"
   ]
  },
  {
   "cell_type": "markdown",
   "metadata": {},
   "source": [
    "# Download 10-K in Specific Company "
   ]
  },
  {
   "cell_type": "code",
   "execution_count": null,
   "metadata": {},
   "outputs": [],
   "source": [
    "Company = ['AAPL', 'MMM', 'GOOGL']\n",
    "\n",
    "for company in Company: \n",
    "    data = Filing(cik=CIK(company), filing_type=FilingType.FILING_10K, count=5)\n",
    "    try:\n",
    "        createFolder('./10-K Data/'+company)\n",
    "        data.save('./10-K Data/'+company)\n",
    "    except:\n",
    "        print(company+' Get Error!')"
   ]
  },
  {
   "cell_type": "markdown",
   "metadata": {},
   "source": [
    "# Download 10-K in S&P 500 Company \n"
   ]
  },
  {
   "cell_type": "code",
   "execution_count": null,
   "metadata": {},
   "outputs": [],
   "source": [
    "# Read All S&P 500 Company\n",
    "df = pd.read_csv('./SP company.csv')\n",
    "for company in df['Symbol']:\n",
    "    time.sleep(1)\n",
    "    try:\n",
    "        data = Filing(cik=CIK(company), filing_type=FilingType.FILING_10K, count=5)\n",
    "        createFolder('./10-K Data/'+company)\n",
    "        data.save('./10-K Data/'+company)\n",
    "    except:\n",
    "        print(company+' Get Error!')"
   ]
  },
  {
   "cell_type": "code",
   "execution_count": null,
   "metadata": {},
   "outputs": [],
   "source": []
  }
 ],
 "metadata": {
  "kernelspec": {
   "display_name": "Python 3",
   "language": "python",
   "name": "python3"
  },
  "language_info": {
   "codemirror_mode": {
    "name": "ipython",
    "version": 3
   },
   "file_extension": ".py",
   "mimetype": "text/x-python",
   "name": "python",
   "nbconvert_exporter": "python",
   "pygments_lexer": "ipython3",
   "version": "3.6.8"
  }
 },
 "nbformat": 4,
 "nbformat_minor": 2
}
