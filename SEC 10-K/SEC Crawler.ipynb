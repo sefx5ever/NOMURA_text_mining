{
 "cells": [
  {
   "cell_type": "markdown",
   "metadata": {},
   "source": [
    "# SEC Crawler API\n",
    "pip install git+https://github.com/coyo8/sec-edgar.git <br>\n",
    "Note the Beautiful Soup need to be downgrade <br>\n",
    "pip install --upgrade html5lib==1.0b8 <br>"
   ]
  },
  {
   "cell_type": "code",
   "execution_count": 2,
   "metadata": {},
   "outputs": [],
   "source": [
    "# sec crawler API\n",
    "# pip install git+https://github.com/coyo8/sec-edgar.git\n",
    "# Note the Beautiful Soup need to be downgrade \n",
    "# pip install --upgrade html5lib==1.0b8\n",
    "\n",
    "import os\n",
    "import re\n",
    "import requests\n",
    "import pandas as pd\n",
    "import datetime\n",
    "import time\n",
    "import secedgar\n",
    "import pickle\n",
    "from secedgar.filings import Filing, FilingType, CIK\n",
    "\n",
    "def createFolder(directory):\n",
    "    try:\n",
    "        if not os.path.exists(directory):\n",
    "            os.makedirs(directory)\n",
    "    except OSError:\n",
    "        print ('Error: Creating directory. ' +  directory)\n"
   ]
  },
  {
   "cell_type": "markdown",
   "metadata": {},
   "source": [
    "# Download 10-K in Specific Company "
   ]
  },
  {
   "cell_type": "code",
   "execution_count": 13,
   "metadata": {},
   "outputs": [],
   "source": [
    "Company = ['AMZN', 'JPM', 'GOOGL']\n",
    "\n",
    "for company in Company: \n",
    "    try:    \n",
    "        data = Filing(cik=CIK(company), filing_type=FilingType.FILING_10K, count=5)\n",
    "        createFolder('./10-K Data/'+company)\n",
    "        data.save('./10-K Data/'+company)\n",
    "    except:\n",
    "        print(company+' Get Error!')"
   ]
  },
  {
   "cell_type": "markdown",
   "metadata": {},
   "source": [
    "# Download 10-K in S&P 500 Company \n"
   ]
  },
  {
   "cell_type": "code",
   "execution_count": null,
   "metadata": {},
   "outputs": [],
   "source": [
    "# Read All S&P 500 Company\n",
    "df = pd.read_csv('./SP company.csv')\n",
    "for company in df['Symbol']:\n",
    "    time.sleep(1)\n",
    "    try:\n",
    "        data = Filing(cik=CIK(company), filing_type=FilingType.FILING_10K, count=5)\n",
    "        createFolder('./10-K Data/'+company)\n",
    "        data.save('./10-K Data/'+company)\n",
    "    except:\n",
    "        print(company+' Get Error!')"
   ]
  },
  {
   "cell_type": "markdown",
   "metadata": {},
   "source": [
    "# Download 10-K in Nomura Report Company"
   ]
  },
  {
   "cell_type": "code",
   "execution_count": 3,
   "metadata": {},
   "outputs": [
    {
     "name": "stdout",
     "output_type": "stream",
     "text": [
      "Total Company: 67\n"
     ]
    }
   ],
   "source": [
    "path    = './Nomura_Report/'\n",
    "Company = []\n",
    "\n",
    "for dirPath, dirNames, fileNames in os.walk(path):\n",
    "    for f in fileNames:\n",
    "        if bool(re.search(r\"csv$\",f)):\n",
    "            df = pd.read_csv(os.path.join(dirPath, f))\n",
    "            Company.append(list(df['t_name']))\n",
    "\n",
    "Company = sum (Company,[])\n",
    "Company = list(set(Company))\n",
    "with open(path+'Company.pkl', 'wb') as f:\n",
    "    pickle.dump(Company, f)\n",
    "print('Total Company:',len(Company))"
   ]
  },
  {
   "cell_type": "code",
   "execution_count": null,
   "metadata": {
    "scrolled": true
   },
   "outputs": [],
   "source": [
    "Error = []\n",
    "Available = []\n",
    "for company in Company: \n",
    "    time.sleep(1)\n",
    "    try:\n",
    "        data = Filing(cik=CIK(company), filing_type=FilingType.FILING_10K, count=5)\n",
    "        createFolder('./10-K Data/'+company)\n",
    "        data.save('./10-K Data/'+company)\n",
    "        Available.append(company)\n",
    "    except:\n",
    "        Error.append(company)"
   ]
  },
  {
   "cell_type": "code",
   "execution_count": 7,
   "metadata": {},
   "outputs": [
    {
     "name": "stdout",
     "output_type": "stream",
     "text": [
      "Total Company: 67\n",
      "Total Available Company: 48\n"
     ]
    }
   ],
   "source": [
    "with open(path+'Available.pkl', 'wb') as f:\n",
    "    pickle.dump(Available, f)\n",
    "\n",
    "with open(path+'Error.pkl', 'wb') as f:\n",
    "    pickle.dump(Error, f)\n",
    "    \n",
    "print('Total Company:',len(Company))\n",
    "print('Total Available Company:',len(Available))"
   ]
  },
  {
   "cell_type": "code",
   "execution_count": 6,
   "metadata": {},
   "outputs": [
    {
     "data": {
      "text/plain": [
       "['NTK',\n",
       " 'BBDBCN',\n",
       " 'NEFICO',\n",
       " 'SFRFP',\n",
       " 'FIAT',\n",
       " 'VRXCN',\n",
       " 'ZAYOGR',\n",
       " 'NUMFP',\n",
       " 'iBoxx',\n",
       " 'AER',\n",
       " 'ARGID',\n",
       " 'HDSUPP',\n",
       " 'RSIHPI',\n",
       " 'CSCHLD',\n",
       " 'TCKBCN',\n",
       " 'JEFFIN',\n",
       " 'REYNOL',\n",
       " 'VANECK',\n",
       " 'BCULC']"
      ]
     },
     "execution_count": 6,
     "metadata": {},
     "output_type": "execute_result"
    }
   ],
   "source": [
    "Error"
   ]
  },
  {
   "cell_type": "code",
   "execution_count": null,
   "metadata": {},
   "outputs": [],
   "source": []
  }
 ],
 "metadata": {
  "kernelspec": {
   "display_name": "Python 3",
   "language": "python",
   "name": "python3"
  },
  "language_info": {
   "codemirror_mode": {
    "name": "ipython",
    "version": 3
   },
   "file_extension": ".py",
   "mimetype": "text/x-python",
   "name": "python",
   "nbconvert_exporter": "python",
   "pygments_lexer": "ipython3",
   "version": "3.6.8"
  }
 },
 "nbformat": 4,
 "nbformat_minor": 2
}
